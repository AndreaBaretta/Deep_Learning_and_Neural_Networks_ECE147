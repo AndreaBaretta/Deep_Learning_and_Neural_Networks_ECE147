{
 "cells": [
  {
   "cell_type": "markdown",
   "metadata": {},
   "source": [
    "## This is the softmax workbook for ECE C147/C247 Assignment #2\n",
    "\n",
    "Please follow the notebook linearly to implement a softmax classifier.\n",
    "\n",
    "Please print out the workbook entirely when completed.\n",
    "\n",
    "The goal of this workbook is to give you experience with training a softmax classifier."
   ]
  },
  {
   "cell_type": "code",
   "execution_count": 1,
   "metadata": {
    "scrolled": false
   },
   "outputs": [],
   "source": [
    "import random\n",
    "import numpy as np\n",
    "from utils.data_utils import load_CIFAR10\n",
    "import matplotlib.pyplot as plt\n",
    "\n",
    "%matplotlib inline\n",
    "%load_ext autoreload\n",
    "%autoreload 2"
   ]
  },
  {
   "cell_type": "code",
   "execution_count": 107,
   "metadata": {
    "scrolled": true
   },
   "outputs": [
    {
     "name": "stdout",
     "output_type": "stream",
     "text": [
      "Train data shape:  (49000, 3073)\n",
      "Train labels shape:  (49000,)\n",
      "Validation data shape:  (1000, 3073)\n",
      "Validation labels shape:  (1000,)\n",
      "Test data shape:  (1000, 3073)\n",
      "Test labels shape:  (1000,)\n",
      "dev data shape:  (500, 3073)\n",
      "dev labels shape:  (500,)\n"
     ]
    }
   ],
   "source": [
    "def get_CIFAR10_data(num_training=49000, num_validation=1000, num_test=1000, num_dev=500):\n",
    "    \"\"\"\n",
    "    Load the CIFAR-10 dataset from disk and perform preprocessing to prepare\n",
    "    it for the linear classifier. These are the same steps as we used for the\n",
    "    SVM, but condensed to a single function.  \n",
    "    \"\"\"\n",
    "    # Load the raw CIFAR-10 data\n",
    "    cifar10_dir = '/home/andrea/git/UCLA/UCLA_ECE147/Homework2/HW2_code/cifar-10-batches-py' # You need to update this line\n",
    "    X_train, y_train, X_test, y_test = load_CIFAR10(cifar10_dir)\n",
    "    \n",
    "    # subsample the data\n",
    "    mask = list(range(num_training, num_training + num_validation))\n",
    "    X_val = X_train[mask]\n",
    "    y_val = y_train[mask]\n",
    "    mask = list(range(num_training))\n",
    "    X_train = X_train[mask]\n",
    "    y_train = y_train[mask]\n",
    "    mask = list(range(num_test))\n",
    "    X_test = X_test[mask]\n",
    "    y_test = y_test[mask]\n",
    "    mask = np.random.choice(num_training, num_dev, replace=False)\n",
    "    X_dev = X_train[mask]\n",
    "    y_dev = y_train[mask]\n",
    "    \n",
    "    # Preprocessing: reshape the image data into rows\n",
    "    X_train = np.reshape(X_train, (X_train.shape[0], -1))\n",
    "    X_val = np.reshape(X_val, (X_val.shape[0], -1))\n",
    "    X_test = np.reshape(X_test, (X_test.shape[0], -1))\n",
    "    X_dev = np.reshape(X_dev, (X_dev.shape[0], -1))\n",
    "    \n",
    "    # Normalize the data: subtract the mean image\n",
    "    mean_image = np.mean(X_train, axis = 0)\n",
    "    X_train -= mean_image\n",
    "    X_val -= mean_image\n",
    "    X_test -= mean_image\n",
    "    X_dev -= mean_image\n",
    "    \n",
    "    # add bias dimension and transform into columns\n",
    "    X_train = np.hstack([X_train, np.ones((X_train.shape[0], 1))])\n",
    "    X_val = np.hstack([X_val, np.ones((X_val.shape[0], 1))])\n",
    "    X_test = np.hstack([X_test, np.ones((X_test.shape[0], 1))])\n",
    "    X_dev = np.hstack([X_dev, np.ones((X_dev.shape[0], 1))])\n",
    "    \n",
    "    return X_train, y_train, X_val, y_val, X_test, y_test, X_dev, y_dev\n",
    "\n",
    "\n",
    "# Invoke the above function to get our data.\n",
    "X_train, y_train, X_val, y_val, X_test, y_test, X_dev, y_dev = get_CIFAR10_data()\n",
    "print('Train data shape: ', X_train.shape)\n",
    "print('Train labels shape: ', y_train.shape)\n",
    "print('Validation data shape: ', X_val.shape)\n",
    "print('Validation labels shape: ', y_val.shape)\n",
    "print('Test data shape: ', X_test.shape)\n",
    "print('Test labels shape: ', y_test.shape)\n",
    "print('dev data shape: ', X_dev.shape)\n",
    "print('dev labels shape: ', y_dev.shape)"
   ]
  },
  {
   "cell_type": "markdown",
   "metadata": {},
   "source": [
    "## Training a softmax classifier.\n",
    "\n",
    "The following cells will take you through building a softmax classifier.  You will implement its loss function, then subsequently train it with gradient descent.  Finally, you will choose the learning rate of gradient descent to optimize its classification performance."
   ]
  },
  {
   "cell_type": "code",
   "execution_count": 108,
   "metadata": {
    "scrolled": false
   },
   "outputs": [],
   "source": [
    "from nndl import Softmax"
   ]
  },
  {
   "cell_type": "code",
   "execution_count": 109,
   "metadata": {
    "scrolled": false
   },
   "outputs": [],
   "source": [
    "# Declare an instance of the Softmax class.  \n",
    "# Weights are initialized to a random value.\n",
    "# Note, to keep people's first solutions consistent, we are going to use a random seed.\n",
    "\n",
    "np.random.seed(1)\n",
    "\n",
    "num_classes = len(np.unique(y_train))\n",
    "num_features = X_train.shape[1]\n",
    "\n",
    "softmax = Softmax(dims=[num_classes, num_features])"
   ]
  },
  {
   "cell_type": "markdown",
   "metadata": {},
   "source": [
    "#### Softmax loss"
   ]
  },
  {
   "cell_type": "code",
   "execution_count": 129,
   "metadata": {
    "scrolled": false
   },
   "outputs": [],
   "source": [
    "## Implement the loss function of the softmax using a for loop over\n",
    "#  the number of examples\n",
    "\n",
    "unit_loss = softmax.loss(X_train, y_train)"
   ]
  },
  {
   "cell_type": "code",
   "execution_count": 120,
   "metadata": {
    "scrolled": false
   },
   "outputs": [
    {
     "name": "stdout",
     "output_type": "stream",
     "text": [
      "2.3277607028048966\n"
     ]
    }
   ],
   "source": [
    "print(loss)"
   ]
  },
  {
   "cell_type": "code",
   "execution_count": 115,
   "metadata": {},
   "outputs": [
    {
     "data": {
      "text/plain": [
       "0.10025884372280375"
      ]
     },
     "execution_count": 115,
     "metadata": {},
     "output_type": "execute_result"
    }
   ],
   "source": [
    "np.exp(-2.3)"
   ]
  },
  {
   "cell_type": "markdown",
   "metadata": {},
   "source": [
    "## Question: \n",
    "\n",
    "You'll notice the loss returned by the softmax is about 2.3 (if implemented correctly).  Why does this make sense?"
   ]
  },
  {
   "cell_type": "markdown",
   "metadata": {},
   "source": [
    "## Answer:\n",
    "\n",
    "The computed loss is the average loss per observation. The loss is $-2.3$, so the softmax per observation is $e^{-2.3}$, or about $\\frac{1}{10}$. This makes perfect sense since $W$ is approximately $0$, so the softmax evaluates to $\\textrm{softmax}_j(x^{i}) = \\frac{e^{w_j^T x}}{\\sum_{k=1}^{c} e^{w_k^T x}} \\approx \\frac{e^{0}}{\\sum_{k=1}^{c} e^{0}} = \\frac{1}{c} = \\frac{1}{10}$ since we have $c=10$ classes."
   ]
  },
  {
   "cell_type": "markdown",
   "metadata": {},
   "source": [
    "#### Softmax gradient"
   ]
  },
  {
   "cell_type": "code",
   "execution_count": 261,
   "metadata": {
    "scrolled": false
   },
   "outputs": [
    {
     "name": "stdout",
     "output_type": "stream",
     "text": [
      "numerical: -0.412513 analytic: -0.412513, relative error: 3.100247e-08\n",
      "numerical: 1.449105 analytic: 1.449105, relative error: 5.650975e-09\n",
      "numerical: 2.770640 analytic: 2.770640, relative error: 2.425229e-09\n",
      "numerical: -1.671566 analytic: -1.671566, relative error: 6.438381e-09\n",
      "numerical: 2.540387 analytic: 2.540387, relative error: 9.276612e-09\n",
      "numerical: 1.122858 analytic: 1.122858, relative error: 3.049509e-08\n",
      "numerical: -0.832407 analytic: -0.832407, relative error: 2.164703e-08\n",
      "numerical: 0.362969 analytic: 0.362969, relative error: 1.164066e-07\n",
      "numerical: 0.110281 analytic: 0.110281, relative error: 2.015857e-09\n",
      "numerical: 1.501076 analytic: 1.501076, relative error: 4.027766e-09\n"
     ]
    }
   ],
   "source": [
    "## Calculate the gradient of the softmax loss in the Softmax class.\n",
    "# For convenience, we'll write one function that computes the loss\n",
    "#   and gradient together, softmax.loss_and_grad(X, y)\n",
    "# You may copy and paste your loss code from softmax.loss() here, and then\n",
    "#   use the appropriate intermediate values to calculate the gradient.\n",
    "\n",
    "loss, grad = softmax.loss_and_grad(X_dev,y_dev)\n",
    "\n",
    "# Compare your gradient to a gradient check we wrote. \n",
    "# You should see relative gradient errors on the order of 1e-07 or less if you implemented the gradient correctly.\n",
    "softmax.grad_check_sparse(X_dev, y_dev, grad)"
   ]
  },
  {
   "cell_type": "code",
   "execution_count": 254,
   "metadata": {},
   "outputs": [
    {
     "data": {
      "text/plain": [
       "array([[-6.74229960e-02, -1.11687303e+00, -3.05855272e+00, ...,\n",
       "        -1.78854575e-01, -1.45885558e+00,  1.08666450e-04],\n",
       "       [-1.06544942e+00, -7.02928086e-01, -8.98941182e-01, ...,\n",
       "        -1.26895409e+00, -2.02551435e+00,  3.44880455e-04],\n",
       "       [ 4.27472812e-02,  5.59734898e-02,  1.25114756e+00, ...,\n",
       "         1.19258009e-01,  9.15453440e-01, -1.27094756e-03],\n",
       "       ...,\n",
       "       [-7.53409582e-01, -8.82949360e-01, -1.03312344e+00, ...,\n",
       "        -6.49982586e-01,  6.54976809e-01, -1.88552556e-04],\n",
       "       [-1.59487390e+00, -2.73922820e+00, -4.70980699e+00, ...,\n",
       "         7.74675600e-01, -1.24149185e+00, -1.61897274e-03],\n",
       "       [-4.84774260e+00, -5.45388202e+00, -6.76998403e+00, ...,\n",
       "        -1.74281117e+00, -2.32992368e+00,  1.88039082e-03]])"
      ]
     },
     "execution_count": 254,
     "metadata": {},
     "output_type": "execute_result"
    }
   ],
   "source": [
    "W = softmax.W\n",
    "y = y_train\n",
    "X = X_train\n",
    "\n",
    "# def softmax(c, x):\n",
    "#     return np.exp(W[c].T@x)/(np.exp(x@W.T).sum(axis=1))\n",
    "\n",
    "# loss -= np.log(softmax(y, X))\n",
    "\n",
    "# loss /= X.shape[0]\n",
    "# softmax(y, X)\n",
    "loss = (-np.log((np.exp((W[y]*X).sum(axis=1))/(np.exp(X@W.T).sum(axis=1))))).mean()\n",
    "softmax_mat = ((np.exp(X@W.T))/(np.exp(X@W.T).sum(axis=1)[:,np.newaxis]))\n",
    "indicator_func = 1*(y[:,np.newaxis] == np.arange(10))\n",
    "fast_grad = (1.0/X.shape[0])*(softmax_mat - indicator_func).T@X\n",
    "fast_grad"
   ]
  },
  {
   "cell_type": "code",
   "execution_count": 216,
   "metadata": {},
   "outputs": [
    {
     "data": {
      "text/plain": [
       "array([[0.0901499 , 0.11439849, 0.10781625, 0.07082191, 0.10381199,\n",
       "        0.09467076, 0.07340523, 0.10914627, 0.12930551, 0.1064737 ]])"
      ]
     },
     "execution_count": 216,
     "metadata": {},
     "output_type": "execute_result"
    }
   ],
   "source": [
    "((np.exp(X[0]@W.T))/(np.exp(X[0]@W.T)[np.newaxis,:].sum(axis=1)[:,np.newaxis]))"
   ]
  },
  {
   "cell_type": "code",
   "execution_count": 217,
   "metadata": {},
   "outputs": [
    {
     "data": {
      "text/plain": [
       "array([ 0,  0,  0,  0,  0,  0, -1,  0,  0,  0])"
      ]
     },
     "execution_count": 217,
     "metadata": {},
     "output_type": "execute_result"
    }
   ],
   "source": [
    "(-1*(y[:,np.newaxis] == np.arange(10)))[0]"
   ]
  },
  {
   "cell_type": "code",
   "execution_count": 237,
   "metadata": {},
   "outputs": [
    {
     "data": {
      "text/plain": [
       "array([[-1.31806320e-04, -1.36111137e-04, -1.27817685e-04, ...,\n",
       "        -6.22990228e-05, -7.80064689e-05,  1.83979381e-06],\n",
       "       [-1.67259692e-04, -1.72722423e-04, -1.62198191e-04, ...,\n",
       "        -7.90562651e-05, -9.89887130e-05,  2.33466306e-06],\n",
       "       [-1.57635935e-04, -1.62784351e-04, -1.52865661e-04, ...,\n",
       "        -7.45075401e-05, -9.32931184e-05,  2.20033164e-06],\n",
       "       ...,\n",
       "       [-1.59580536e-04, -1.64792464e-04, -1.54751416e-04, ...,\n",
       "        -7.54266675e-05, -9.44439853e-05,  2.22747500e-06],\n",
       "       [-1.89054941e-04, -1.95229508e-04, -1.83333886e-04, ...,\n",
       "        -8.93579161e-05, -1.11887718e-04,  2.63888795e-06],\n",
       "       [-1.55673015e-04, -1.60757322e-04, -1.50962141e-04, ...,\n",
       "        -7.35797547e-05, -9.21314106e-05,  2.17293259e-06]])"
      ]
     },
     "execution_count": 237,
     "metadata": {},
     "output_type": "execute_result"
    }
   ],
   "source": [
    "row_smax=((np.exp(X[0]@W.T))/(np.exp(X[0]@W.T)[np.newaxis,:].sum(axis=1)[:,np.newaxis]))\n",
    "row_indic=(1*(y[:,np.newaxis] == np.arange(10)))[0]\n",
    "row_grad= (1.0/X.shape[0])*(row_smax - row_indic).T@X[0][np.newaxis,:]\n",
    "row_grad"
   ]
  },
  {
   "cell_type": "code",
   "execution_count": 256,
   "metadata": {},
   "outputs": [
    {
     "data": {
      "text/plain": [
       "array([[-6.74229960e-02, -1.11687303e+00, -3.05855272e+00, ...,\n",
       "        -1.78854575e-01, -1.45885558e+00,  1.08666450e-04],\n",
       "       [-1.06544942e+00, -7.02928086e-01, -8.98941182e-01, ...,\n",
       "        -1.26895409e+00, -2.02551435e+00,  3.44880455e-04],\n",
       "       [ 4.27472812e-02,  5.59734898e-02,  1.25114756e+00, ...,\n",
       "         1.19258009e-01,  9.15453440e-01, -1.27094756e-03],\n",
       "       ...,\n",
       "       [-7.53409582e-01, -8.82949360e-01, -1.03312344e+00, ...,\n",
       "        -6.49982586e-01,  6.54976809e-01, -1.88552556e-04],\n",
       "       [-1.59487390e+00, -2.73922820e+00, -4.70980699e+00, ...,\n",
       "         7.74675600e-01, -1.24149185e+00, -1.61897274e-03],\n",
       "       [-4.84774260e+00, -5.45388202e+00, -6.76998403e+00, ...,\n",
       "        -1.74281117e+00, -2.32992368e+00,  1.88039082e-03]])"
      ]
     },
     "execution_count": 256,
     "metadata": {},
     "output_type": "execute_result"
    }
   ],
   "source": [
    "# def softmax(c, x):\n",
    "#     return np.exp(self.W[c]@x)/(np.exp(self.W@x)).sum()\n",
    "\n",
    "# for i in range(0, X.shape[0]):\n",
    "#     for k in range(0, self.W.shape[0]):\n",
    "#         dL_i_dw_k = (softmax(k, X[i]) - (k == y[i]))*X[i]\n",
    "#         grad[k,:] += dL_i_dw_k\n",
    "        \n",
    "# grad /= X.shape[0]\n",
    "\n",
    "test_grad2 = np.zeros_like(W)\n",
    "\n",
    "def softmax_func(c, x):\n",
    "    return np.exp(W[c]@x)/(np.exp(W@x)).sum()\n",
    "\n",
    "for i in range(0, X.shape[0]):\n",
    "    for k in range(0, W.shape[0]):\n",
    "        dL_i_dw_k = (softmax_func(k, X[i]) - (k == y[i]))*X[i]\n",
    "        test_grad2[k,:] += dL_i_dw_k\n",
    "        \n",
    "test_grad2 /= X.shape[0]\n",
    "test_grad2"
   ]
  },
  {
   "cell_type": "code",
   "execution_count": 250,
   "metadata": {},
   "outputs": [
    {
     "data": {
      "text/plain": [
       "array([[-6.74229960e-02, -1.11687303e+00, -3.05855272e+00, ...,\n",
       "        -1.78854575e-01, -1.45885558e+00,  1.08666450e-04],\n",
       "       [-1.06544942e+00, -7.02928086e-01, -8.98941182e-01, ...,\n",
       "        -1.26895409e+00, -2.02551435e+00,  3.44880455e-04],\n",
       "       [ 4.27472812e-02,  5.59734898e-02,  1.25114756e+00, ...,\n",
       "         1.19258009e-01,  9.15453440e-01, -1.27094756e-03],\n",
       "       ...,\n",
       "       [-7.53409582e-01, -8.82949360e-01, -1.03312344e+00, ...,\n",
       "        -6.49982586e-01,  6.54976809e-01, -1.88552556e-04],\n",
       "       [-1.59487390e+00, -2.73922820e+00, -4.70980699e+00, ...,\n",
       "         7.74675600e-01, -1.24149185e+00, -1.61897274e-03],\n",
       "       [-4.84774260e+00, -5.45388202e+00, -6.76998403e+00, ...,\n",
       "        -1.74281117e+00, -2.32992368e+00,  1.88039082e-03]])"
      ]
     },
     "execution_count": 250,
     "metadata": {},
     "output_type": "execute_result"
    }
   ],
   "source": [
    "def softmax_func(c, x):\n",
    "    return np.exp(W[c]@x)/(np.exp(W@x)).sum()\n",
    "\n",
    "test_grad = np.zeros_like(W)\n",
    "\n",
    "for i in range(0, X.shape[0]):\n",
    "    for k in range(0, W.shape[0]):\n",
    "#         print(f\"{i=}, {softmax_func(k, X[i])=}\")\n",
    "#         print(f\"{i=}, {-1*(k == y[i])=}\")\n",
    "        dL_i_dw_k = (softmax_func(k, X[i]) - (k == y[i]))*X[i]\n",
    "#         assert grad[k,:].shape == dL_i_dw_k.shape, f\"{grad[k,:].shape =} != {dL_i_dw_k.shape =}\"\n",
    "        test_grad[k,:] += dL_i_dw_k\n",
    "\n",
    "test_grad /= X.shape[0]\n",
    "test_grad"
   ]
  },
  {
   "cell_type": "code",
   "execution_count": 229,
   "metadata": {},
   "outputs": [
    {
     "data": {
      "text/plain": [
       "array([[-1.31806320e-04, -1.36111137e-04, -1.27817685e-04, ...,\n",
       "        -6.22990228e-05, -7.80064689e-05,  1.83979381e-06],\n",
       "       [-1.67259692e-04, -1.72722423e-04, -1.62198191e-04, ...,\n",
       "        -7.90562651e-05, -9.89887130e-05,  2.33466306e-06],\n",
       "       [-1.57635935e-04, -1.62784351e-04, -1.52865661e-04, ...,\n",
       "        -7.45075401e-05, -9.32931184e-05,  2.20033164e-06],\n",
       "       ...,\n",
       "       [-1.59580536e-04, -1.64792464e-04, -1.54751416e-04, ...,\n",
       "        -7.54266675e-05, -9.44439853e-05,  2.22747500e-06],\n",
       "       [-1.89054941e-04, -1.95229508e-04, -1.83333886e-04, ...,\n",
       "        -8.93579161e-05, -1.11887718e-04,  2.63888795e-06],\n",
       "       [-1.55673015e-04, -1.60757322e-04, -1.50962141e-04, ...,\n",
       "        -7.35797547e-05, -9.21314106e-05,  2.17293259e-06]])"
      ]
     },
     "execution_count": 229,
     "metadata": {},
     "output_type": "execute_result"
    }
   ],
   "source": [
    "grad"
   ]
  },
  {
   "cell_type": "code",
   "execution_count": 247,
   "metadata": {},
   "outputs": [
    {
     "data": {
      "text/plain": [
       "array([[-6.74229960e-02, -1.11687303e+00, -3.05855272e+00, ...,\n",
       "        -1.78854575e-01, -1.45885558e+00,  1.08666450e-04],\n",
       "       [-1.06544942e+00, -7.02928086e-01, -8.98941182e-01, ...,\n",
       "        -1.26895409e+00, -2.02551435e+00,  3.44880455e-04],\n",
       "       [ 4.27472812e-02,  5.59734898e-02,  1.25114756e+00, ...,\n",
       "         1.19258009e-01,  9.15453440e-01, -1.27094756e-03],\n",
       "       ...,\n",
       "       [-7.53409582e-01, -8.82949360e-01, -1.03312344e+00, ...,\n",
       "        -6.49982586e-01,  6.54976809e-01, -1.88552556e-04],\n",
       "       [-1.59487390e+00, -2.73922820e+00, -4.70980699e+00, ...,\n",
       "         7.74675600e-01, -1.24149185e+00, -1.61897274e-03],\n",
       "       [-4.84774260e+00, -5.45388202e+00, -6.76998403e+00, ...,\n",
       "        -1.74281117e+00, -2.32992368e+00,  1.88039082e-03]])"
      ]
     },
     "execution_count": 247,
     "metadata": {},
     "output_type": "execute_result"
    }
   ],
   "source": [
    "row_smax=((np.exp(X@W.T))/(np.exp(X@W.T).sum(axis=1)[:,np.newaxis]))\n",
    "row_indic=(1*(y[:,np.newaxis] == np.arange(10)))\n",
    "row_grad = (1.0/X.shape[0])*(row_smax - row_indic).T@X\n",
    "row_grad"
   ]
  },
  {
   "cell_type": "code",
   "execution_count": 252,
   "metadata": {},
   "outputs": [
    {
     "data": {
      "text/plain": [
       "array([[ 4.02876447e-01, -9.66425599e-02, -1.47020505e+00, ...,\n",
       "         5.56593389e-01, -5.64809866e-01,  3.34246868e-02],\n",
       "       [-4.11454543e-02, -1.68827085e-01, -3.43605743e-01, ...,\n",
       "        -7.23651591e-01, -1.29233786e+00,  1.16444900e-02],\n",
       "       [ 4.98903566e-01, -8.15755453e-02,  1.55088135e+00, ...,\n",
       "         1.74023186e-01,  1.34731015e+00,  1.09759142e-02],\n",
       "       ...,\n",
       "       [-2.60863521e+00, -2.10003201e+00, -2.14235096e+00, ...,\n",
       "        -8.49511818e-01,  1.76368126e-01,  2.01447899e-03],\n",
       "       [ 1.31455161e-01, -1.67418405e+00, -4.34702705e+00, ...,\n",
       "         1.98801118e+00, -6.44388349e-01, -9.17433601e-03],\n",
       "       [-6.02646288e+00, -6.55550617e+00, -7.64222320e+00, ...,\n",
       "        -1.56708886e+00, -2.02956084e+00,  7.77870268e-03]])"
      ]
     },
     "execution_count": 252,
     "metadata": {},
     "output_type": "execute_result"
    }
   ],
   "source": [
    "grad"
   ]
  },
  {
   "cell_type": "code",
   "execution_count": 253,
   "metadata": {},
   "outputs": [
    {
     "data": {
      "text/plain": [
       "array([[-6.74229960e-02, -1.11687303e+00, -3.05855272e+00, ...,\n",
       "        -1.78854575e-01, -1.45885558e+00,  1.08666450e-04],\n",
       "       [-1.06544942e+00, -7.02928086e-01, -8.98941182e-01, ...,\n",
       "        -1.26895409e+00, -2.02551435e+00,  3.44880455e-04],\n",
       "       [ 4.27472812e-02,  5.59734898e-02,  1.25114756e+00, ...,\n",
       "         1.19258009e-01,  9.15453440e-01, -1.27094756e-03],\n",
       "       ...,\n",
       "       [-7.53409582e-01, -8.82949360e-01, -1.03312344e+00, ...,\n",
       "        -6.49982586e-01,  6.54976809e-01, -1.88552556e-04],\n",
       "       [-1.59487390e+00, -2.73922820e+00, -4.70980699e+00, ...,\n",
       "         7.74675600e-01, -1.24149185e+00, -1.61897274e-03],\n",
       "       [-4.84774260e+00, -5.45388202e+00, -6.76998403e+00, ...,\n",
       "        -1.74281117e+00, -2.32992368e+00,  1.88039082e-03]])"
      ]
     },
     "execution_count": 253,
     "metadata": {},
     "output_type": "execute_result"
    }
   ],
   "source": [
    "test_grad"
   ]
  },
  {
   "cell_type": "markdown",
   "metadata": {},
   "source": [
    "## A vectorized version of Softmax\n",
    "\n",
    "To speed things up, we will vectorize the loss and gradient calculations.  This will be helpful for stochastic gradient descent."
   ]
  },
  {
   "cell_type": "code",
   "execution_count": null,
   "metadata": {
    "scrolled": false
   },
   "outputs": [],
   "source": [
    "import time"
   ]
  },
  {
   "cell_type": "code",
   "execution_count": null,
   "metadata": {
    "scrolled": false
   },
   "outputs": [],
   "source": [
    "## Implement softmax.fast_loss_and_grad which calculates the loss and gradient\n",
    "#    WITHOUT using any for loops.  \n",
    "\n",
    "# Standard loss and gradient\n",
    "tic = time.time()\n",
    "loss, grad = softmax.loss_and_grad(X_dev, y_dev)\n",
    "toc = time.time()\n",
    "print('Normal loss / grad_norm: {} / {} computed in {}s'.format(loss, np.linalg.norm(grad, 'fro'), toc - tic))\n",
    "\n",
    "tic = time.time()\n",
    "loss_vectorized, grad_vectorized = softmax.fast_loss_and_grad(X_dev, y_dev)\n",
    "toc = time.time()\n",
    "print('Vectorized loss / grad: {} / {} computed in {}s'.format(loss_vectorized, np.linalg.norm(grad_vectorized, 'fro'), toc - tic))\n",
    "\n",
    "# The losses should match but your vectorized implementation should be much faster.\n",
    "print('difference in loss / grad: {} /{} '.format(loss - loss_vectorized, np.linalg.norm(grad - grad_vectorized)))\n",
    "\n",
    "# You should notice a speedup with the same output."
   ]
  },
  {
   "cell_type": "markdown",
   "metadata": {},
   "source": [
    "## Stochastic gradient descent\n",
    "\n",
    "We now implement stochastic gradient descent.  This uses the same principles of gradient descent we discussed in class, however, it calculates the gradient by only using examples from a subset of the training set (so each gradient calculation is faster)."
   ]
  },
  {
   "cell_type": "code",
   "execution_count": null,
   "metadata": {
    "scrolled": false
   },
   "outputs": [],
   "source": [
    "# Implement softmax.train() by filling in the code to extract a batch of data\n",
    "# and perform the gradient step.\n",
    "import time\n",
    "\n",
    "\n",
    "tic = time.time()\n",
    "loss_hist = softmax.train(X_train, y_train, learning_rate=1e-7,\n",
    "                      num_iters=1500, verbose=True)\n",
    "toc = time.time()\n",
    "print('That took {}s'.format(toc - tic))\n",
    "\n",
    "plt.plot(loss_hist)\n",
    "plt.xlabel('Iteration number')\n",
    "plt.ylabel('Loss value')\n",
    "plt.show()"
   ]
  },
  {
   "cell_type": "markdown",
   "metadata": {},
   "source": [
    "### Evaluate the performance of the trained softmax classifier on the validation data."
   ]
  },
  {
   "cell_type": "code",
   "execution_count": null,
   "metadata": {
    "scrolled": false
   },
   "outputs": [],
   "source": [
    "## Implement softmax.predict() and use it to compute the training and testing error.\n",
    "\n",
    "y_train_pred = softmax.predict(X_train)\n",
    "print('training accuracy: {}'.format(np.mean(np.equal(y_train,y_train_pred), )))\n",
    "y_val_pred = softmax.predict(X_val)\n",
    "print('validation accuracy: {}'.format(np.mean(np.equal(y_val, y_val_pred)), ))"
   ]
  },
  {
   "cell_type": "markdown",
   "metadata": {},
   "source": [
    "## Optimize the softmax classifier"
   ]
  },
  {
   "cell_type": "code",
   "execution_count": null,
   "metadata": {
    "scrolled": false
   },
   "outputs": [],
   "source": [
    "np.finfo(float).eps"
   ]
  },
  {
   "cell_type": "code",
   "execution_count": null,
   "metadata": {
    "scrolled": false
   },
   "outputs": [],
   "source": [
    "# ================================================================ #\n",
    "# YOUR CODE HERE:\n",
    "#   Train the Softmax classifier with different learning rates and \n",
    "#     evaluate on the validation data.\n",
    "#   Report:\n",
    "#     - The best learning rate of the ones you tested.  \n",
    "#     - The best validation accuracy corresponding to the best validation error.\n",
    "#\n",
    "#   Select the SVM that achieved the best validation error and report\n",
    "#     its error rate on the test set.\n",
    "# ================================================================ #\n",
    "\n",
    "# ================================================================ #\n",
    "# END YOUR CODE HERE\n",
    "# ================================================================ #\n"
   ]
  }
 ],
 "metadata": {
  "kernelspec": {
   "display_name": "Python 3 (ipykernel)",
   "language": "python",
   "name": "python3"
  },
  "language_info": {
   "codemirror_mode": {
    "name": "ipython",
    "version": 3
   },
   "file_extension": ".py",
   "mimetype": "text/x-python",
   "name": "python",
   "nbconvert_exporter": "python",
   "pygments_lexer": "ipython3",
   "version": "3.12.1"
  }
 },
 "nbformat": 4,
 "nbformat_minor": 2
}
