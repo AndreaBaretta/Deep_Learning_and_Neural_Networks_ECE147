{
 "cells": [
  {
   "cell_type": "markdown",
   "metadata": {},
   "source": [
    "# Dropout\n",
    "\n",
    "In this notebook, you will implement dropout.  Then we will ask you to train a network with batchnorm and dropout, and acheive over 55% accuracy on CIFAR-10.\n",
    "\n",
    "CS231n has built a solid API for building these modular frameworks and training them, and we will use their very well implemented framework as opposed to \"reinventing the wheel.\"  This includes using their Solver, various utility functions, and their layer structure.  This also includes nndl.fc_net, nndl.layers, and nndl.layer_utils.  As in prior assignments, we thank Serena Yeung & Justin Johnson for permission to use code written for the CS 231n class (cs231n.stanford.edu).  "
   ]
  },
  {
   "cell_type": "code",
   "execution_count": 1,
   "metadata": {},
   "outputs": [],
   "source": [
    "## Import and setups\n",
    "\n",
    "import time\n",
    "import numpy as np\n",
    "import matplotlib.pyplot as plt\n",
    "from nndl.fc_net import *\n",
    "from nndl.layers import *\n",
    "from utils.data_utils import get_CIFAR10_data\n",
    "from utils.gradient_check import eval_numerical_gradient, eval_numerical_gradient_array\n",
    "from utils.solver import Solver\n",
    "\n",
    "%matplotlib inline\n",
    "plt.rcParams['figure.figsize'] = (10.0, 8.0) # set default size of plots\n",
    "plt.rcParams['image.interpolation'] = 'nearest'\n",
    "plt.rcParams['image.cmap'] = 'gray'\n",
    "\n",
    "# for auto-reloading external modules\n",
    "# see http://stackoverflow.com/questions/1907993/autoreload-of-modules-in-ipython\n",
    "%load_ext autoreload\n",
    "%autoreload 2\n",
    "\n",
    "def rel_error(x, y):\n",
    "  \"\"\" returns relative error \"\"\"\n",
    "  return np.max(np.abs(x - y) / (np.maximum(1e-8, np.abs(x) + np.abs(y))))"
   ]
  },
  {
   "cell_type": "code",
   "execution_count": 2,
   "metadata": {},
   "outputs": [
    {
     "name": "stdout",
     "output_type": "stream",
     "text": [
      "X_train: (49000, 3, 32, 32) \n",
      "y_train: (49000,) \n",
      "X_val: (1000, 3, 32, 32) \n",
      "y_val: (1000,) \n",
      "X_test: (1000, 3, 32, 32) \n",
      "y_test: (1000,) \n"
     ]
    }
   ],
   "source": [
    "# Load the (preprocessed) CIFAR10 data.\n",
    "\n",
    "data = get_CIFAR10_data()\n",
    "for k in data.keys():\n",
    "  print('{}: {} '.format(k, data[k].shape))"
   ]
  },
  {
   "cell_type": "markdown",
   "metadata": {},
   "source": [
    "## Dropout forward pass\n",
    "\n",
    "Implement the training and test time dropout forward pass, `dropout_forward`, in `nndl/layers.py`. After that, test your implementation by running the following cell."
   ]
  },
  {
   "cell_type": "code",
   "execution_count": 4,
   "metadata": {},
   "outputs": [
    {
     "data": {
      "text/plain": [
       "array([[0.72884288, 0.43812882],\n",
       "       [0.2740342 , 0.23776331]])"
      ]
     },
     "execution_count": 4,
     "metadata": {},
     "output_type": "execute_result"
    }
   ],
   "source": [
    "A = np.array([[1,2],\n",
    "              [3,4]])\n",
    "np.random.rand(*A.shape)"
   ]
  },
  {
   "cell_type": "code",
   "execution_count": 7,
   "metadata": {},
   "outputs": [
    {
     "name": "stdout",
     "output_type": "stream",
     "text": [
      "Running tests with p =  0.3\n",
      "Mean of input:  9.998745371188118\n",
      "Mean of train-time output:  3.0069323715568523\n",
      "Mean of test-time output:  2.9996236113564354\n",
      "Fraction of train-time output set to zero:  0.699252\n",
      "Fraction of test-time output set to zero:  0.0\n",
      "Running tests with p =  0.6\n",
      "Mean of input:  9.998745371188118\n",
      "Mean of train-time output:  5.994681927092401\n",
      "Mean of test-time output:  5.999247222712871\n",
      "Fraction of train-time output set to zero:  0.400484\n",
      "Fraction of test-time output set to zero:  0.0\n",
      "Running tests with p =  0.75\n",
      "Mean of input:  9.998745371188118\n",
      "Mean of train-time output:  7.512510582793219\n",
      "Mean of test-time output:  7.4990590283910885\n",
      "Fraction of train-time output set to zero:  0.248628\n",
      "Fraction of test-time output set to zero:  0.0\n"
     ]
    }
   ],
   "source": [
    "x = np.random.randn(500, 500) + 10\n",
    "\n",
    "for p in [0.3, 0.6, 0.75]:\n",
    "  out, _ = dropout_forward(x, {'mode': 'train', 'p': p})\n",
    "  out_test, _ = dropout_forward(x, {'mode': 'test', 'p': p})\n",
    "\n",
    "  print('Running tests with p = ', p)\n",
    "  print('Mean of input: ', x.mean())\n",
    "  print('Mean of train-time output: ', out.mean())\n",
    "  print('Mean of test-time output: ', out_test.mean())\n",
    "  print('Fraction of train-time output set to zero: ', (out == 0).mean())\n",
    "  print('Fraction of test-time output set to zero: ', (out_test == 0).mean())"
   ]
  },
  {
   "cell_type": "markdown",
   "metadata": {},
   "source": [
    "## Dropout backward pass\n",
    "\n",
    "Implement the backward pass, `dropout_backward`, in `nndl/layers.py`.  After that, test your gradients by running the following cell:"
   ]
  },
  {
   "cell_type": "code",
   "execution_count": 8,
   "metadata": {},
   "outputs": [
    {
     "name": "stdout",
     "output_type": "stream",
     "text": [
      "dx relative error:  1.8928975246808945e-11\n"
     ]
    }
   ],
   "source": [
    "x = np.random.randn(10, 10) + 10\n",
    "dout = np.random.randn(*x.shape)\n",
    "\n",
    "dropout_param = {'mode': 'train', 'p': 0.8, 'seed': 123}\n",
    "out, cache = dropout_forward(x, dropout_param)\n",
    "dx = dropout_backward(dout, cache)\n",
    "dx_num = eval_numerical_gradient_array(lambda xx: dropout_forward(xx, dropout_param)[0], x, dout)\n",
    "\n",
    "print('dx relative error: ', rel_error(dx, dx_num))"
   ]
  },
  {
   "cell_type": "markdown",
   "metadata": {},
   "source": [
    "## Implement a fully connected neural network with dropout layers\n",
    "\n",
    "Modify the `FullyConnectedNet()` class in `nndl/fc_net.py` to incorporate dropout.  A dropout layer should be incorporated after every ReLU layer.  Concretely, there shouldn't be a dropout at the output layer since there is no ReLU at the output layer. You will need to modify the class in the following areas:\n",
    "\n",
    "(1) In the forward pass, you will need to incorporate a dropout layer after every relu layer.\n",
    "\n",
    "(2) In the backward pass, you will need to incorporate a dropout backward pass layer.\n",
    "\n",
    "Check your implementation by running the following code.  Our W1 gradient relative error is on the order of 1e-6 (the largest of all the relative errors)."
   ]
  },
  {
   "cell_type": "code",
   "execution_count": 9,
   "metadata": {},
   "outputs": [
    {
     "name": "stdout",
     "output_type": "stream",
     "text": [
      "Running check with dropout =  0\n",
      "Initial loss:  2.2984741470186405\n",
      "W1 relative error: 9.301935726155851e-07\n",
      "W2 relative error: 3.2935875372935877e-06\n",
      "W3 relative error: 2.7822691439664463e-08\n",
      "b1 relative error: 4.88029644298765e-08\n",
      "b2 relative error: 4.032863478233499e-09\n",
      "b3 relative error: 9.142564949508211e-11\n",
      "\n",
      "\n",
      "Running check with dropout =  0.25\n",
      "Initial loss:  2.302518858109018\n",
      "W1 relative error: 2.560042659846193e-07\n",
      "W2 relative error: 1.705606653810703e-07\n",
      "W3 relative error: 4.0008479237487056e-07\n",
      "b1 relative error: 1.3186984658380557e-08\n",
      "b2 relative error: 3.8442009407190905e-10\n",
      "b3 relative error: 1.1871593839226396e-10\n",
      "\n",
      "\n",
      "Running check with dropout =  0.5\n",
      "Initial loss:  2.304028094589177\n",
      "W1 relative error: 1.809984576248857e-07\n",
      "W2 relative error: 7.886431778719963e-08\n",
      "W3 relative error: 1.1086889021382429e-07\n",
      "b1 relative error: 6.201536830598307e-09\n",
      "b2 relative error: 4.531485935174069e-09\n",
      "b3 relative error: 1.6367001396950336e-10\n",
      "\n",
      "\n"
     ]
    }
   ],
   "source": [
    "N, D, H1, H2, C = 2, 15, 20, 30, 10\n",
    "X = np.random.randn(N, D)\n",
    "y = np.random.randint(C, size=(N,))\n",
    "\n",
    "for dropout in [0, 0.25, 0.5]:\n",
    "  print('Running check with dropout = ', dropout)\n",
    "  model = FullyConnectedNet([H1, H2], input_dim=D, num_classes=C,\n",
    "                            weight_scale=5e-2, dtype=np.float64,\n",
    "                            dropout=dropout, seed=123)\n",
    "\n",
    "  loss, grads = model.loss(X, y)\n",
    "  print('Initial loss: ', loss)\n",
    "\n",
    "  for name in sorted(grads):\n",
    "    f = lambda _: model.loss(X, y)[0]\n",
    "    grad_num = eval_numerical_gradient(f, model.params[name], verbose=False, h=1e-5)\n",
    "    print('{} relative error: {}'.format(name, rel_error(grad_num, grads[name])))\n",
    "  print('\\n')"
   ]
  },
  {
   "cell_type": "markdown",
   "metadata": {},
   "source": [
    "## Dropout as a regularizer\n",
    "\n",
    "In class, we claimed that dropout acts as a regularizer by effectively bagging.  To check this, we will train two small networks, one with dropout and one without dropout.  "
   ]
  },
  {
   "cell_type": "code",
   "execution_count": 11,
   "metadata": {},
   "outputs": [
    {
     "name": "stdout",
     "output_type": "stream",
     "text": [
      "(Iteration 1 / 125) loss: 2.303819\n",
      "(Epoch 0 / 25) train acc: 0.152000; val_acc: 0.123000\n",
      "(Epoch 1 / 25) train acc: 0.230000; val_acc: 0.171000\n",
      "(Epoch 2 / 25) train acc: 0.264000; val_acc: 0.231000\n",
      "(Epoch 3 / 25) train acc: 0.298000; val_acc: 0.244000\n",
      "(Epoch 4 / 25) train acc: 0.358000; val_acc: 0.271000\n",
      "(Epoch 5 / 25) train acc: 0.396000; val_acc: 0.285000\n",
      "(Epoch 6 / 25) train acc: 0.410000; val_acc: 0.295000\n",
      "(Epoch 7 / 25) train acc: 0.494000; val_acc: 0.308000\n",
      "(Epoch 8 / 25) train acc: 0.546000; val_acc: 0.329000\n",
      "(Epoch 9 / 25) train acc: 0.500000; val_acc: 0.312000\n",
      "(Epoch 10 / 25) train acc: 0.626000; val_acc: 0.339000\n",
      "(Epoch 11 / 25) train acc: 0.670000; val_acc: 0.309000\n",
      "(Epoch 12 / 25) train acc: 0.716000; val_acc: 0.337000\n",
      "(Epoch 13 / 25) train acc: 0.714000; val_acc: 0.317000\n",
      "(Epoch 14 / 25) train acc: 0.778000; val_acc: 0.309000\n",
      "(Epoch 15 / 25) train acc: 0.778000; val_acc: 0.322000\n",
      "(Epoch 16 / 25) train acc: 0.852000; val_acc: 0.307000\n",
      "(Epoch 17 / 25) train acc: 0.890000; val_acc: 0.297000\n",
      "(Epoch 18 / 25) train acc: 0.914000; val_acc: 0.320000\n",
      "(Epoch 19 / 25) train acc: 0.934000; val_acc: 0.296000\n",
      "(Epoch 20 / 25) train acc: 0.942000; val_acc: 0.281000\n",
      "(Iteration 101 / 125) loss: 0.260371\n",
      "(Epoch 21 / 25) train acc: 0.962000; val_acc: 0.287000\n",
      "(Epoch 22 / 25) train acc: 0.972000; val_acc: 0.300000\n",
      "(Epoch 23 / 25) train acc: 0.986000; val_acc: 0.304000\n",
      "(Epoch 24 / 25) train acc: 0.978000; val_acc: 0.320000\n",
      "(Epoch 25 / 25) train acc: 0.974000; val_acc: 0.300000\n",
      "(Iteration 1 / 125) loss: 2.302073\n",
      "(Epoch 0 / 25) train acc: 0.182000; val_acc: 0.184000\n",
      "(Epoch 1 / 25) train acc: 0.142000; val_acc: 0.120000\n",
      "(Epoch 2 / 25) train acc: 0.158000; val_acc: 0.120000\n",
      "(Epoch 3 / 25) train acc: 0.174000; val_acc: 0.142000\n",
      "(Epoch 4 / 25) train acc: 0.226000; val_acc: 0.183000\n",
      "(Epoch 5 / 25) train acc: 0.262000; val_acc: 0.222000\n",
      "(Epoch 6 / 25) train acc: 0.298000; val_acc: 0.265000\n",
      "(Epoch 7 / 25) train acc: 0.318000; val_acc: 0.267000\n",
      "(Epoch 8 / 25) train acc: 0.318000; val_acc: 0.267000\n",
      "(Epoch 9 / 25) train acc: 0.328000; val_acc: 0.253000\n",
      "(Epoch 10 / 25) train acc: 0.338000; val_acc: 0.259000\n",
      "(Epoch 11 / 25) train acc: 0.372000; val_acc: 0.292000\n",
      "(Epoch 12 / 25) train acc: 0.376000; val_acc: 0.287000\n",
      "(Epoch 13 / 25) train acc: 0.376000; val_acc: 0.279000\n",
      "(Epoch 14 / 25) train acc: 0.404000; val_acc: 0.289000\n",
      "(Epoch 15 / 25) train acc: 0.428000; val_acc: 0.305000\n",
      "(Epoch 16 / 25) train acc: 0.424000; val_acc: 0.267000\n",
      "(Epoch 17 / 25) train acc: 0.466000; val_acc: 0.290000\n",
      "(Epoch 18 / 25) train acc: 0.460000; val_acc: 0.287000\n",
      "(Epoch 19 / 25) train acc: 0.478000; val_acc: 0.286000\n",
      "(Epoch 20 / 25) train acc: 0.482000; val_acc: 0.293000\n",
      "(Iteration 101 / 125) loss: 1.542177\n",
      "(Epoch 21 / 25) train acc: 0.510000; val_acc: 0.294000\n",
      "(Epoch 22 / 25) train acc: 0.510000; val_acc: 0.291000\n",
      "(Epoch 23 / 25) train acc: 0.486000; val_acc: 0.295000\n",
      "(Epoch 24 / 25) train acc: 0.530000; val_acc: 0.296000\n",
      "(Epoch 25 / 25) train acc: 0.558000; val_acc: 0.284000\n"
     ]
    }
   ],
   "source": [
    "# Train two identical nets, one with dropout and one without\n",
    "\n",
    "num_train = 500\n",
    "small_data = {\n",
    "  'X_train': data['X_train'][:num_train],\n",
    "  'y_train': data['y_train'][:num_train],\n",
    "  'X_val': data['X_val'],\n",
    "  'y_val': data['y_val'],\n",
    "}\n",
    "\n",
    "solvers = {}\n",
    "dropout_choices = [0, 0.6]\n",
    "for dropout in dropout_choices:\n",
    "  model = FullyConnectedNet([100, 100, 100], dropout=dropout)\n",
    "\n",
    "  solver = Solver(model, small_data,\n",
    "                  num_epochs=25, batch_size=100,\n",
    "                  update_rule='adam',\n",
    "                  optim_config={\n",
    "                    'learning_rate': 5e-4,\n",
    "                  },\n",
    "                  verbose=True, print_every=100)\n",
    "  solver.train()\n",
    "  solvers[dropout] = solver"
   ]
  },
  {
   "cell_type": "code",
   "execution_count": 12,
   "metadata": {},
   "outputs": [
    {
     "data": {
      "image/png": "[encoded data removed]",
      "text/plain": [
       "<Figure size 1500x1500 with 2 Axes>"
      ]
     },
     "metadata": {},
     "output_type": "display_data"
    }
   ],
   "source": [
    "# Plot train and validation accuracies of the two models\n",
    "\n",
    "train_accs = []\n",
    "val_accs = []\n",
    "for dropout in dropout_choices:\n",
    "  solver = solvers[dropout]\n",
    "  train_accs.append(solver.train_acc_history[-1])\n",
    "  val_accs.append(solver.val_acc_history[-1])\n",
    "\n",
    "plt.subplot(3, 1, 1)\n",
    "for dropout in dropout_choices:\n",
    "  plt.plot(solvers[dropout].train_acc_history, 'o', label='%.2f dropout' % dropout)\n",
    "plt.title('Train accuracy')\n",
    "plt.xlabel('Epoch')\n",
    "plt.ylabel('Accuracy')\n",
    "plt.legend(ncol=2, loc='lower right')\n",
    "  \n",
    "plt.subplot(3, 1, 2)\n",
    "for dropout in dropout_choices:\n",
    "  plt.plot(solvers[dropout].val_acc_history, 'o', label='%.2f dropout' % dropout)\n",
    "plt.title('Val accuracy')\n",
    "plt.xlabel('Epoch')\n",
    "plt.ylabel('Accuracy')\n",
    "plt.legend(ncol=2, loc='lower right')\n",
    "\n",
    "plt.gcf().set_size_inches(15, 15)\n",
    "plt.show()"
   ]
  },
  {
   "cell_type": "markdown",
   "metadata": {},
   "source": [
    "## Question\n",
    "\n",
    "Based off the results of this experiment, is dropout performing regularization?  Explain your answer."
   ]
  },
  {
   "cell_type": "markdown",
   "metadata": {},
   "source": [
    "## Answer:\n",
    "Dropout is performing a tremendous amount of regularization. With dropout, training accuracy is significantly worse, but validation accuracy is the same as the highly overfitted model. This suggests that dropout is, in fact, creating a more general model."
   ]
  },
  {
   "cell_type": "markdown",
   "metadata": {},
   "source": [
    "## Final part of the assignment\n",
    "\n",
    "Get over 55% validation accuracy on CIFAR-10 by using the layers you have implemented.  You will be graded according to the following equation:\n",
    "\n",
    "min(floor((X - 32%)) / 23%, 1) \n",
    "where if you get 55% or higher validation accuracy, you get full points."
   ]
  },
  {
   "cell_type": "code",
   "execution_count": 17,
   "metadata": {
    "scrolled": false
   },
   "outputs": [
    {
     "name": "stdout",
     "output_type": "stream",
     "text": [
      "(Iteration 1 / 1470) loss: 2.306206\n",
      "(Epoch 0 / 15) train acc: 0.194000; val_acc: 0.182000\n",
      "(Epoch 1 / 15) train acc: 0.407000; val_acc: 0.396000\n",
      "(Iteration 101 / 1470) loss: 1.779652\n",
      "(Epoch 2 / 15) train acc: 0.450000; val_acc: 0.441000\n",
      "(Iteration 201 / 1470) loss: 1.589251\n",
      "(Epoch 3 / 15) train acc: 0.457000; val_acc: 0.476000\n",
      "(Iteration 301 / 1470) loss: 1.531624\n",
      "(Epoch 4 / 15) train acc: 0.506000; val_acc: 0.484000\n",
      "(Iteration 401 / 1470) loss: 1.455030\n",
      "(Epoch 5 / 15) train acc: 0.519000; val_acc: 0.497000\n",
      "(Iteration 501 / 1470) loss: 1.449525\n",
      "(Epoch 6 / 15) train acc: 0.531000; val_acc: 0.503000\n",
      "(Iteration 601 / 1470) loss: 1.420145\n",
      "(Epoch 7 / 15) train acc: 0.534000; val_acc: 0.521000\n",
      "(Iteration 701 / 1470) loss: 1.470458\n",
      "(Epoch 8 / 15) train acc: 0.561000; val_acc: 0.520000\n",
      "(Iteration 801 / 1470) loss: 1.387134\n",
      "(Epoch 9 / 15) train acc: 0.555000; val_acc: 0.539000\n",
      "(Iteration 901 / 1470) loss: 1.415978\n",
      "(Epoch 10 / 15) train acc: 0.577000; val_acc: 0.539000\n",
      "(Iteration 1001 / 1470) loss: 1.260370\n",
      "(Epoch 11 / 15) train acc: 0.550000; val_acc: 0.549000\n",
      "(Iteration 1101 / 1470) loss: 1.385071\n",
      "(Epoch 12 / 15) train acc: 0.585000; val_acc: 0.540000\n",
      "(Iteration 1201 / 1470) loss: 1.346132\n",
      "(Epoch 13 / 15) train acc: 0.584000; val_acc: 0.532000\n",
      "(Iteration 1301 / 1470) loss: 1.381595\n",
      "(Epoch 14 / 15) train acc: 0.606000; val_acc: 0.555000\n",
      "(Iteration 1401 / 1470) loss: 1.228602\n",
      "(Epoch 15 / 15) train acc: 0.590000; val_acc: 0.566000\n"
     ]
    }
   ],
   "source": [
    "# ================================================================ #\n",
    "# YOUR CODE HERE:\n",
    "#   Implement a FC-net that achieves at least 55% validation accuracy\n",
    "#   on CIFAR-10.\n",
    "# ================================================================ #\n",
    "\n",
    "model = FullyConnectedNet([500, 500, 500, 100], dropout=0.5, use_batchnorm=True)\n",
    "\n",
    "solver = Solver(model, data,\n",
    "              num_epochs=15, batch_size=500,\n",
    "              update_rule='adam',\n",
    "              optim_config={\n",
    "                'learning_rate': 2e-3,\n",
    "              },\n",
    "              verbose=True, print_every=100)\n",
    "solver.train()\n",
    "\n",
    "# ================================================================ #\n",
    "# END YOUR CODE HERE\n",
    "# ================================================================ #\n"
   ]
  }
 ],
 "metadata": {
  "kernelspec": {
   "display_name": "Python 3 (ipykernel)",
   "language": "python",
   "name": "python3"
  },
  "language_info": {
   "codemirror_mode": {
    "name": "ipython",
    "version": 3
   },
   "file_extension": ".py",
   "mimetype": "text/x-python",
   "name": "python",
   "nbconvert_exporter": "python",
   "pygments_lexer": "ipython3",
   "version": "3.12.1"
  }
 },
 "nbformat": 4,
 "nbformat_minor": 2
}
